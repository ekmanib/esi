{
 "cells": [
  {
   "cell_type": "code",
   "execution_count": 64,
   "metadata": {},
   "outputs": [],
   "source": [
    "import pandas as pd\n",
    "import numpy as np\n",
    "import itertools\n"
   ]
  },
  {
   "cell_type": "code",
   "execution_count": 65,
   "metadata": {},
   "outputs": [],
   "source": [
    "df = pd.read_csv(\"../esi/downloads/esi2017.csv\", sep = ';', usecols=['nac_migr', 'pais_prod', 'pais_res', 'can_jefm'])\n",
    "# # remove whitespace across all column, both at the end and at the beginning of the string\n",
    "df.columns = df.columns.str.strip()\n",
    "\n",
    "isoc = pd.read_csv('../esi/files_support/ISOcodesEs.csv', sep = '\\t', usecols=['País', 'iso2'])\n",
    "countries = pd.read_csv('../esi/files_support/worldcountries.csv', sep = '\\t', usecols=['country', 'latitude', 'longitude'])\n",
    "cities = pd.read_csv('../esi/files_support/worldcities.csv', usecols=['city_ascii', 'lat', 'lng', 'country'])\n",
    "cities_codes = pd.read_csv('../esi/files_support/cantones_codes.csv')\n",
    "\n",
    "\n",
    "\n",
    "# Housekeeping\n",
    "# must capitalize each worh in the CANTON column\n",
    "cities_codes['CANTON'] = cities_codes['CANTON'].str.title()\n",
    "# must filter to ecuadorian cities only in cities\n",
    "cities = cities.loc[cities['country'] == 'Ecuador']"
   ]
  },
  {
   "cell_type": "code",
   "execution_count": 86,
   "metadata": {},
   "outputs": [],
   "source": [
    "nac_migr = np.unique(df['nac_migr'])\n",
    "pais_prod = np.unique(df['pais_prod'])\n",
    "pais_res = np.unique(df['pais_res'])\n",
    "can_jefm = np.unique(df['can_jefm'])"
   ]
  },
  {
   "cell_type": "code",
   "execution_count": 92,
   "metadata": {},
   "outputs": [],
   "source": [
    "# Do nac_migr, pais_prod, pais_res all have the same country labels \n",
    "# `results` is a list of tuples for all elements that are identical in three lists. It builds upon itertools product which return cartesian product of inputs\n",
    "results = list(filter(lambda x: x[0] == x[1] == x[2], itertools.product(nac_migr, pais_prod, pais_res)))\n",
    "is_repeated = [x[0] for x in results]\n",
    "\n",
    "nac_migr_not_repeated = [x for x in nac_migr if x not in is_repeated]\n",
    "pais_prod_not_repeated = [x for x in pais_prod if x not in is_repeated]\n",
    "pais_res_not_repeated = [x for x in pais_res if x not in is_repeated]"
   ]
  },
  {
   "cell_type": "code",
   "execution_count": 103,
   "metadata": {},
   "outputs": [
    {
     "name": "stdout",
     "output_type": "stream",
     "text": [
      "222 227 234\n"
     ]
    }
   ],
   "source": [
    "pd.DataFrame.from_dict(\n",
    "    {'nac_migr_': nac_migr_not_repeated,\n",
    "    'pais_prod_': pais_prod_not_repeated,\n",
    "    'pais_res_': pais_res_not_repeated},\n",
    "    orient = 'index'\n",
    ")\n",
    "\n",
    "\n",
    "print(len(nac_migr), len(pais_prod), len(pais_res))"
   ]
  },
  {
   "cell_type": "code",
   "execution_count": 105,
   "metadata": {},
   "outputs": [
    {
     "name": "stdout",
     "output_type": "stream",
     "text": [
      "['Anguila', 'Comoras', 'Ecuador', 'Groenlandia', 'Islas Cook', 'Kosovo', 'Montserrat', 'Reunión', 'San Pedro y Miquelón'] ----- ['Anguila', 'Comoras', 'Ecuador', 'Guernsey', 'Isla Bouvet', 'Islas Cocos ó Keeling', 'Islas Cook', 'Islas Ultramarinas de EE UU', 'Islas Wallis y Futuna', 'Kosovo', 'Reunión', 'San Bartolomé', 'San Pedro y Miquelón']\n"
     ]
    }
   ],
   "source": [
    "# Which countries of nac_migr and pais_res do not appear in pais_prod so as to be included\n",
    "# in original dictionary present in script\n",
    "\n",
    "nac_migr_not_pais_prod = [x for x in nac_migr if x not in pais_prod]\n",
    "pais_res_not_pais_prod = [x for x in pais_res if x not in pais_prod]\n",
    "\n",
    "print(nac_migr_not_pais_prod, '-----', pais_res_not_pais_prod)"
   ]
  },
  {
   "cell_type": "code",
   "execution_count": 66,
   "metadata": {},
   "outputs": [
    {
     "name": "stdout",
     "output_type": "stream",
     "text": [
      "(6180175, 4)\n"
     ]
    }
   ],
   "source": [
    "# Create a dictionary with new names for the countries that weren't matched \n",
    "countries_dict = {\n",
    "    'Antigua República Yugoslava de Macedonia': 'Macedonia del Norte',\n",
    "    'Barein' : 'Bahrein',\n",
    "    'Bielorrusia' : 'Belarús',\n",
    "    'Bonaire, San Eustaquio y Saba' : 'Not',\n",
    "    'Bosnia y Herzegovina' : '`Bosnia y Hercegovina`',\n",
    "    'Brunei Darussalam' : 'Brunéi',\n",
    "    'Camboya' : 'Cambodia',\n",
    "    'Comoras' : 'Comores',\n",
    "    'Curazao' : 'Curaçao',\n",
    "    'Estados Unidos de América' : 'Estados Unidos',\n",
    "    'Federación de Rusia' : 'Rusia',\n",
    "    'Fiyi' : 'Fiji',\n",
    "    'Guernsey' : 'Not',\n",
    "    'Guinea-Bisau' : 'Guinea-Bissau',\n",
    "    'Guyana' : 'Guayana',\n",
    "    'Hong Kong (Región Administrativa Especial de China)' : 'Hong Kong',\n",
    "    'Irak' : 'Iraq',\n",
    "    'Isla de Navidad (Chistmas)' : 'Isla de Navidad',\n",
    "    'Islas Aland' : 'Islas Åland',\n",
    "    'Islas Georgias del Sur y Sándwich  del Sur' : 'Georgia del Sur y las Islas Sandwich del Sur',\n",
    "    'Islas Heard y Mc Donald' : 'Islas Heard y McDonald',\n",
    "    'Islas Malvinas (Falkland)' : 'Islas Malvinas',\n",
    "    'Islas Marianas Septentrionales' : 'Islas Marianas del Norte',\n",
    "    'Islas Norfolk' : 'Isla Norfolk',\n",
    "    'Islas Ultramarinas de EE UU' : 'Not',\n",
    "    'Islas Vírgenes Británicas' : 'Islas Vírgenes (UK)',\n",
    "    'Islas Vírgenes de los Estados Unidos' : 'Islas Vírgenes Americanas',\n",
    "    'Kazajistán' : 'Kazajstán',\n",
    "    'Lesoto' : 'Lesotho',\n",
    "    'Mauricio' : 'Isla Mauricio',\n",
    "    'Micronesia (Estados Federados de)' : 'Estados Federados de Micronesia',\n",
    "    'Mónaco' : 'Principado de Mónaco',\n",
    "    'Nueva Zelanda' : 'Nueva Zelandia',\n",
    "    'Pitcairn' : 'Islas Pitcairn',\n",
    "    'Polinesia francesa' : 'Polinesia Francesa',\n",
    "    'República Checa' : 'Chequia',\n",
    "    'República Democrática Popular Lao' : 'Laos',\n",
    "    'República Popular Democrática de Corea' : 'Corea del Norte',\n",
    "    'República de Corea del Sur' : 'Corea del Sur',\n",
    "    'República de Moldovia' : 'Moldavia',\n",
    "    'República Árabe Siria' : 'Siria',\n",
    "    'San Martín' : 'Sint Maarten',\n",
    "    'San Martín (Parte francesa)' : 'Isla de San Martín',\n",
    "    'Santa Sede (Vaticano)' : 'Ciudad del Vaticano',\n",
    "    'Sint Maarten (Parte Holandesa)' : 'Sint Maarten',\n",
    "    'Suazilandia' : 'Esuatini',\n",
    "    'Taiwán (República de China)' : 'Taiwán',\n",
    "    'Tanzania (República Unida de)' : 'Tanzania',\n",
    "    'Tanzania (República Unida de) ' : 'Tanzania',\n",
    "    'Timor-Leste' : 'Timor Oriental',\n",
    "    'Islas Cocos ó Keeling' : 'Islas Cocos',\n",
    "    'Islas Wallis y Futuna' : 'Wallis y Futuna'\n",
    "}\n",
    "\n",
    "# create dictionary to change can_jefm column in df\n",
    "cantones_dict = {\n",
    "    'Sucumbíos' : 'Nueva Loja',\n",
    "    'San Lorenzo' : 'San Lorenzo de Esmeraldas',\n",
    "    'Espíndola' : 'Loja', \n",
    "    'Chinchipe' : 'Zamora', \n",
    "    'Zapotillo' : 'Loja',\n",
    "    'Puerto el Carmen del Putumayo' : 'Nueva Loja', \n",
    "    'Aguarico': 'Puerto Francisco de Orellana',\n",
    "    'San Cristóbal' : 'Puerto Baquerizo Moreno', \n",
    "    'Isabela' : 'Puerto Villamil', \n",
    "    'Lago Agrio':'Nueva Loja',\n",
    "}\n",
    "\n",
    "print(df.shape)\n",
    "\n",
    "# use dictionaries to replace columns' values.\n",
    "# Important to get merge df with\n",
    "df.replace({\n",
    "    'pais_prod': countries_dict,\n",
    "    'pais_res' : countries_dict,\n",
    "    'nac_migr' : countries_dict,\n",
    "    'can_jefm' : cantones_dict\n",
    "}, inplace=True)"
   ]
  },
  {
   "cell_type": "code",
   "execution_count": 68,
   "metadata": {},
   "outputs": [
    {
     "name": "stdout",
     "output_type": "stream",
     "text": [
      "(6180175, 4)\n",
      "(6180175, 8)\n",
      "(6180175, 10)\n",
      "(6180175, 13)\n",
      "(6180175, 15)\n",
      "(6180175, 18)\n"
     ]
    }
   ],
   "source": [
    "print(df.shape)\n",
    "df0 = pd.merge(df, cities, how = 'left', left_on='can_jefm', right_on='city_ascii')\n",
    "print(df0.shape)\n",
    "df1 = pd.merge(df0, isoc, how = 'left', left_on = 'nac_migr', right_on = 'País')\n",
    "print(df1.shape)\n",
    "df2 = pd.merge(df1, countries, how = 'left', left_on = 'iso2', right_on = 'country')\n",
    "print(df2.shape)\n",
    "df3 = pd.merge(df2, isoc, how = 'left', left_on = 'pais_prod', right_on = 'País', suffixes=('', '_pais_prod'))\n",
    "print(df3.shape)\n",
    "df4 = pd.merge(df3, countries, how = 'left', left_on = 'iso2_pais_prod', right_on = 'country',suffixes=('', '_pais_prod'))\n",
    "print(df4.shape)"
   ]
  },
  {
   "cell_type": "code",
   "execution_count": 72,
   "metadata": {},
   "outputs": [
    {
     "name": "stdout",
     "output_type": "stream",
     "text": [
      "Index(['nac_migr', 'pais_prod', 'pais_res', 'can_jefm'], dtype='object')\n",
      "Index(['nac_migr', 'pais_prod', 'pais_res', 'can_jefm', 'city_ascii', 'lat',\n",
      "       'lng', 'country'],\n",
      "      dtype='object')\n",
      "Index(['nac_migr', 'pais_prod', 'pais_res', 'can_jefm', 'city_ascii', 'lat',\n",
      "       'lng', 'country', 'País', 'iso2'],\n",
      "      dtype='object')\n",
      "Index(['nac_migr', 'pais_prod', 'pais_res', 'can_jefm', 'city_ascii', 'lat',\n",
      "       'lng', 'country_x', 'País', 'iso2', 'country_y', 'latitude',\n",
      "       'longitude'],\n",
      "      dtype='object')\n",
      "Index(['nac_migr', 'pais_prod', 'pais_res', 'can_jefm', 'city_ascii', 'lat',\n",
      "       'lng', 'country_x', 'País', 'iso2', 'country_y', 'latitude',\n",
      "       'longitude', 'País_pais_prod', 'iso2_pais_prod'],\n",
      "      dtype='object')\n",
      "Index(['nac_migr', 'pais_prod', 'pais_res', 'can_jefm', 'city_ascii', 'lat',\n",
      "       'lng', 'country_x', 'País', 'iso2', 'country_y', 'latitude',\n",
      "       'longitude', 'País_pais_prod', 'iso2_pais_prod', 'country',\n",
      "       'latitude_pais_prod', 'longitude_pais_prod'],\n",
      "      dtype='object')\n"
     ]
    }
   ],
   "source": [
    "print(df.columns)\n",
    "print(df0.columns)\n",
    "print(df1.columns)\n",
    "print(df2.columns)\n",
    "print(df3.columns)\n",
    "print(df4.columns)"
   ]
  },
  {
   "cell_type": "code",
   "execution_count": 73,
   "metadata": {},
   "outputs": [
    {
     "data": {
      "text/html": [
       "<div>\n",
       "<style scoped>\n",
       "    .dataframe tbody tr th:only-of-type {\n",
       "        vertical-align: middle;\n",
       "    }\n",
       "\n",
       "    .dataframe tbody tr th {\n",
       "        vertical-align: top;\n",
       "    }\n",
       "\n",
       "    .dataframe thead th {\n",
       "        text-align: right;\n",
       "    }\n",
       "</style>\n",
       "<table border=\"1\" class=\"dataframe\">\n",
       "  <thead>\n",
       "    <tr style=\"text-align: right;\">\n",
       "      <th></th>\n",
       "      <th>nac_migr</th>\n",
       "      <th>pais_prod</th>\n",
       "      <th>pais_res</th>\n",
       "      <th>can_jefm</th>\n",
       "      <th>city_ascii</th>\n",
       "      <th>lat</th>\n",
       "      <th>lng</th>\n",
       "      <th>country</th>\n",
       "    </tr>\n",
       "  </thead>\n",
       "  <tbody>\n",
       "    <tr>\n",
       "      <th>0</th>\n",
       "      <td>Sin especificar</td>\n",
       "      <td>Italia</td>\n",
       "      <td>Italia</td>\n",
       "      <td>Guayaquil</td>\n",
       "      <td>Guayaquil</td>\n",
       "      <td>-2.1833</td>\n",
       "      <td>-79.8833</td>\n",
       "      <td>Ecuador</td>\n",
       "    </tr>\n",
       "    <tr>\n",
       "      <th>1</th>\n",
       "      <td>Zambia</td>\n",
       "      <td>Estados Unidos</td>\n",
       "      <td>Estados Unidos</td>\n",
       "      <td>Quito</td>\n",
       "      <td>Quito</td>\n",
       "      <td>-0.2186</td>\n",
       "      <td>-78.5097</td>\n",
       "      <td>Ecuador</td>\n",
       "    </tr>\n",
       "    <tr>\n",
       "      <th>2</th>\n",
       "      <td>Zambia</td>\n",
       "      <td>Zambia</td>\n",
       "      <td>Zambia</td>\n",
       "      <td>Quito</td>\n",
       "      <td>Quito</td>\n",
       "      <td>-0.2186</td>\n",
       "      <td>-78.5097</td>\n",
       "      <td>Ecuador</td>\n",
       "    </tr>\n",
       "    <tr>\n",
       "      <th>3</th>\n",
       "      <td>Zambia</td>\n",
       "      <td>Zambia</td>\n",
       "      <td>Zambia</td>\n",
       "      <td>Guayaquil</td>\n",
       "      <td>Guayaquil</td>\n",
       "      <td>-2.1833</td>\n",
       "      <td>-79.8833</td>\n",
       "      <td>Ecuador</td>\n",
       "    </tr>\n",
       "    <tr>\n",
       "      <th>4</th>\n",
       "      <td>Zambia</td>\n",
       "      <td>Estados Unidos</td>\n",
       "      <td>Estados Unidos</td>\n",
       "      <td>Quito</td>\n",
       "      <td>Quito</td>\n",
       "      <td>-0.2186</td>\n",
       "      <td>-78.5097</td>\n",
       "      <td>Ecuador</td>\n",
       "    </tr>\n",
       "  </tbody>\n",
       "</table>\n",
       "</div>"
      ],
      "text/plain": [
       "          nac_migr       pais_prod        pais_res   can_jefm city_ascii  \\\n",
       "0  Sin especificar          Italia          Italia  Guayaquil  Guayaquil   \n",
       "1           Zambia  Estados Unidos  Estados Unidos      Quito      Quito   \n",
       "2           Zambia          Zambia          Zambia      Quito      Quito   \n",
       "3           Zambia          Zambia          Zambia  Guayaquil  Guayaquil   \n",
       "4           Zambia  Estados Unidos  Estados Unidos      Quito      Quito   \n",
       "\n",
       "      lat      lng  country  \n",
       "0 -2.1833 -79.8833  Ecuador  \n",
       "1 -0.2186 -78.5097  Ecuador  \n",
       "2 -0.2186 -78.5097  Ecuador  \n",
       "3 -2.1833 -79.8833  Ecuador  \n",
       "4 -0.2186 -78.5097  Ecuador  "
      ]
     },
     "execution_count": 73,
     "metadata": {},
     "output_type": "execute_result"
    }
   ],
   "source": [
    "df0.head()"
   ]
  },
  {
   "cell_type": "code",
   "execution_count": 58,
   "metadata": {},
   "outputs": [],
   "source": [
    "df = df4.drop(['city_ascii', 'iso2', 'iso2_pais_prod', 'País', 'País_pais_prod'], axis=1)\n",
    "\n",
    "refactor_dict = {\n",
    "    'lat'                : 'lat_can_jefm',\n",
    "    'lng'                : 'lng_can_jefm',\n",
    "    'country'            : 'iso_nac_migr',\n",
    "    'latitude'           : 'lat_nac_migr',\n",
    "    'longitude'          : 'lng_nac_migr',\n",
    "    'country_pais_prod'  : 'iso_pais_prod',\n",
    "    'latitude_pais_prod' : 'lat_pais_prod',\n",
    "    'longitude_pais_prod': 'lng_pais_prod'\n",
    "}\n",
    "\n",
    "df.rename(columns = refactor_dict, inplace=True)"
   ]
  },
  {
   "cell_type": "code",
   "execution_count": 60,
   "metadata": {},
   "outputs": [
    {
     "name": "stdout",
     "output_type": "stream",
     "text": [
      "(6310372, 7)\n",
      "(6310372, 9)\n",
      "(6310372, 12)\n",
      "(6310372, 14)\n",
      "(6310372, 17)\n"
     ]
    }
   ],
   "source": [
    "print(df0.shape)\n",
    "print(df1.shape)\n",
    "print(df2.shape)\n",
    "print(df3.shape)\n",
    "print(df4.shape)\n"
   ]
  },
  {
   "cell_type": "code",
   "execution_count": 63,
   "metadata": {},
   "outputs": [
    {
     "data": {
      "text/html": [
       "<div>\n",
       "<style scoped>\n",
       "    .dataframe tbody tr th:only-of-type {\n",
       "        vertical-align: middle;\n",
       "    }\n",
       "\n",
       "    .dataframe tbody tr th {\n",
       "        vertical-align: top;\n",
       "    }\n",
       "\n",
       "    .dataframe thead th {\n",
       "        text-align: right;\n",
       "    }\n",
       "</style>\n",
       "<table border=\"1\" class=\"dataframe\">\n",
       "  <thead>\n",
       "    <tr style=\"text-align: right;\">\n",
       "      <th></th>\n",
       "      <th>city_ascii</th>\n",
       "      <th>lat</th>\n",
       "      <th>lng</th>\n",
       "      <th>country</th>\n",
       "    </tr>\n",
       "  </thead>\n",
       "  <tbody>\n",
       "    <tr>\n",
       "      <th>292</th>\n",
       "      <td>Guayaquil</td>\n",
       "      <td>-2.1833</td>\n",
       "      <td>-79.8833</td>\n",
       "      <td>Ecuador</td>\n",
       "    </tr>\n",
       "    <tr>\n",
       "      <th>388</th>\n",
       "      <td>Quito</td>\n",
       "      <td>-0.2186</td>\n",
       "      <td>-78.5097</td>\n",
       "      <td>Ecuador</td>\n",
       "    </tr>\n",
       "    <tr>\n",
       "      <th>1896</th>\n",
       "      <td>Cuenca</td>\n",
       "      <td>-2.8974</td>\n",
       "      <td>-79.0045</td>\n",
       "      <td>Ecuador</td>\n",
       "    </tr>\n",
       "    <tr>\n",
       "      <th>2238</th>\n",
       "      <td>Santo Domingo de los Colorados</td>\n",
       "      <td>-0.2542</td>\n",
       "      <td>-79.1719</td>\n",
       "      <td>Ecuador</td>\n",
       "    </tr>\n",
       "    <tr>\n",
       "      <th>2514</th>\n",
       "      <td>Machala</td>\n",
       "      <td>-3.2667</td>\n",
       "      <td>-79.9667</td>\n",
       "      <td>Ecuador</td>\n",
       "    </tr>\n",
       "    <tr>\n",
       "      <th>...</th>\n",
       "      <td>...</td>\n",
       "      <td>...</td>\n",
       "      <td>...</td>\n",
       "      <td>...</td>\n",
       "    </tr>\n",
       "    <tr>\n",
       "      <th>33643</th>\n",
       "      <td>Pillaro</td>\n",
       "      <td>-1.1667</td>\n",
       "      <td>-78.5333</td>\n",
       "      <td>Ecuador</td>\n",
       "    </tr>\n",
       "    <tr>\n",
       "      <th>38582</th>\n",
       "      <td>Pedro Vicente Maldonado</td>\n",
       "      <td>0.0853</td>\n",
       "      <td>-79.0511</td>\n",
       "      <td>Ecuador</td>\n",
       "    </tr>\n",
       "    <tr>\n",
       "      <th>38842</th>\n",
       "      <td>Archidona</td>\n",
       "      <td>-0.9167</td>\n",
       "      <td>-77.7833</td>\n",
       "      <td>Ecuador</td>\n",
       "    </tr>\n",
       "    <tr>\n",
       "      <th>40214</th>\n",
       "      <td>Puerto Villamil</td>\n",
       "      <td>-0.9333</td>\n",
       "      <td>-91.0167</td>\n",
       "      <td>Ecuador</td>\n",
       "    </tr>\n",
       "    <tr>\n",
       "      <th>40927</th>\n",
       "      <td>Yaupi</td>\n",
       "      <td>-2.8543</td>\n",
       "      <td>-77.9363</td>\n",
       "      <td>Ecuador</td>\n",
       "    </tr>\n",
       "  </tbody>\n",
       "</table>\n",
       "<p>79 rows × 4 columns</p>\n",
       "</div>"
      ],
      "text/plain": [
       "                           city_ascii     lat      lng  country\n",
       "292                         Guayaquil -2.1833 -79.8833  Ecuador\n",
       "388                             Quito -0.2186 -78.5097  Ecuador\n",
       "1896                           Cuenca -2.8974 -79.0045  Ecuador\n",
       "2238   Santo Domingo de los Colorados -0.2542 -79.1719  Ecuador\n",
       "2514                          Machala -3.2667 -79.9667  Ecuador\n",
       "...                               ...     ...      ...      ...\n",
       "33643                         Pillaro -1.1667 -78.5333  Ecuador\n",
       "38582         Pedro Vicente Maldonado  0.0853 -79.0511  Ecuador\n",
       "38842                       Archidona -0.9167 -77.7833  Ecuador\n",
       "40214                 Puerto Villamil -0.9333 -91.0167  Ecuador\n",
       "40927                           Yaupi -2.8543 -77.9363  Ecuador\n",
       "\n",
       "[79 rows x 4 columns]"
      ]
     },
     "execution_count": 63,
     "metadata": {},
     "output_type": "execute_result"
    }
   ],
   "source": []
  },
  {
   "cell_type": "code",
   "execution_count": null,
   "metadata": {},
   "outputs": [],
   "source": []
  }
 ],
 "metadata": {
  "kernelspec": {
   "display_name": "Python 3.9.7 ('base')",
   "language": "python",
   "name": "python3"
  },
  "language_info": {
   "codemirror_mode": {
    "name": "ipython",
    "version": 3
   },
   "file_extension": ".py",
   "mimetype": "text/x-python",
   "name": "python",
   "nbconvert_exporter": "python",
   "pygments_lexer": "ipython3",
   "version": "3.9.7"
  },
  "orig_nbformat": 4,
  "vscode": {
   "interpreter": {
    "hash": "87cdc7eef6c6cd4fceda7e27cb75fb28c96fc5b15f54dcab50faa1427b5814d6"
   }
  }
 },
 "nbformat": 4,
 "nbformat_minor": 2
}
