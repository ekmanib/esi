{
 "cells": [
  {
   "cell_type": "code",
   "execution_count": 19,
   "metadata": {},
   "outputs": [
    {
     "name": "stdout",
     "output_type": "stream",
     "text": [
      "['Entrada', 'Extranjero', '2020', 'Febrero', '8', 'Hombre', 'Reino Unido', 'Europa Septentrional', 'Europa', 'Via Aerea', 'Turismo', 'Reino Unido', 'Europa Septentrional', 'Europa', 'London', 'Reino Unido', 'Europa Septentrional', 'Europa', 'Aeropuerto Internacional Jose Joaquin de Olmedo', 'Guayas', 'Guayaquil', 'No inmigrante T-3', 'Personal de apoyo administrativo no clasificado bajo otros epigrafes', '71']\n"
     ]
    }
   ],
   "source": [
    "import csv\n",
    "\n",
    "file_path = '../esi/esi2020.csv'\n",
    "\n",
    "with open(file_path, 'r', errors=\"ignore\", encoding=\"UTF-8\") as f:\n",
    "    reader = csv.reader(f)\n",
    "    for row in reader:\n",
    "        if len(row) == 1:\n",
    "            temp = row[0].replace('\"', '').split(',')\n",
    "            if len(temp) > 24:\n",
    "                excess = len(temp) - 24\n",
    "                for j in range(excess):\n",
    "                    del temp[-2]\n",
    "                row = temp\n",
    "            else:\n",
    "                row = temp\n",
    "    print(row)\n",
    "\n",
    "\n",
    "    "
   ]
  },
  {
   "cell_type": "code",
   "execution_count": 24,
   "metadata": {},
   "outputs": [],
   "source": [
    "import csv\n",
    "\n",
    "with open('../esi/esi2020.csv', 'r', encoding = 'utf-8') as csv_file:\n",
    "    csv_reader = csv.reader(csv_file)\n",
    "\n",
    "    with open('../esi/esi2020_new.csv', 'w', encoding = 'utf-8', newline = '') as new_file:\n",
    "        csv_writer = csv.writer(new_file)\n",
    "        counter = 0\n",
    "        for line in csv_reader:\n",
    "            if counter < 1048575:\n",
    "                if len(line) == 24:\n",
    "                    csv_writer.writerow(line)\n",
    "                elif len(line) == 1:\n",
    "                    trueline = line[0].replace('\"', '').split(',')\n",
    "                    if len(trueline) > 24:\n",
    "                        excess = len(trueline) - 24\n",
    "                        for j in range(excess):\n",
    "                            del trueline[-2]\n",
    "                    csv_writer.writerow(trueline)\n",
    "                else:\n",
    "                    csv_writer.writerow(['UNO', 'DOS', 'TRES'])\n",
    "            \n",
    "            counter += 1\n",
    "        "
   ]
  },
  {
   "cell_type": "code",
   "execution_count": null,
   "metadata": {},
   "outputs": [],
   "source": []
  }
 ],
 "metadata": {
  "kernelspec": {
   "display_name": "Python 3.9.7 ('base')",
   "language": "python",
   "name": "python3"
  },
  "language_info": {
   "codemirror_mode": {
    "name": "ipython",
    "version": 3
   },
   "file_extension": ".py",
   "mimetype": "text/x-python",
   "name": "python",
   "nbconvert_exporter": "python",
   "pygments_lexer": "ipython3",
   "version": "3.9.7"
  },
  "orig_nbformat": 4,
  "vscode": {
   "interpreter": {
    "hash": "87cdc7eef6c6cd4fceda7e27cb75fb28c96fc5b15f54dcab50faa1427b5814d6"
   }
  }
 },
 "nbformat": 4,
 "nbformat_minor": 2
}
