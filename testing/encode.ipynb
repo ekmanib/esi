{
 "cells": [
  {
   "cell_type": "markdown",
   "metadata": {},
   "source": [
    "## Creation of dictionaties to be used for encoding, the way they must be saved has to be consulted\n",
    "\n"
   ]
  },
  {
   "cell_type": "code",
   "execution_count": 1,
   "metadata": {},
   "outputs": [
    {
     "name": "stderr",
     "output_type": "stream",
     "text": [
      "c:\\Users\\Elias\\anaconda3\\lib\\site-packages\\IPython\\core\\interactiveshell.py:3444: DtypeWarning: Columns (23) have mixed types.Specify dtype option on import or set low_memory=False.\n",
      "  exec(code_obj, self.user_global_ns, self.user_ns)\n"
     ]
    }
   ],
   "source": [
    "import pandas as pd\n",
    "\n",
    "df = pd.read_csv('../downloads/esi2021.csv', sep = ';')\n",
    "# isoc = pd.read_csv('../files_support/ISOcodesEs.csv', sep = '\\t')\n",
    "# countries = pd.read_csv('../files_support/worldcountries.csv', sep = '\\t')\n",
    "# cantones = pd.read_csv('../files_support/cantones_codes.csv')"
   ]
  },
  {
   "cell_type": "code",
   "execution_count": 3,
   "metadata": {},
   "outputs": [],
   "source": [
    "varnames = [\n",
    "    'tip_movi', 'tip_naci', 'anio_movi', 'mes_movi',\n",
    "    'dia_movi', 'sex_migr', 'nac_migr', 'via_tran', \n",
    "    'mot_viam', 'pais_prod', 'lug_prod', 'pais_res',\n",
    "    'jef_migr', 'can_jefm', \n",
    "    # 'edad' >> May include but it needs transformations to categorical, probably by ranges of age\n",
    "]\n",
    "\n",
    "df = df[varnames]"
   ]
  },
  {
   "cell_type": "code",
   "execution_count": 46,
   "metadata": {},
   "outputs": [],
   "source": [
    "# There are 248 countries in isoc df;  There are 245 country codes in countries df\n",
    "iso_c = isoc.merge(countries, how = 'left', left_on='iso2', right_on='country')\n",
    "iso_c = iso_c[['País', 'name', 'iso2']]\n",
    "iso_c.rename(columns={'País':'ESP', 'name':'ENG', 'iso2':'iso'}, inplace=True)\n",
    "iso_esp = iso_c.set_index('ESP')\n",
    "iso_eng = iso_c.set_index('ENG')\n",
    "\n",
    "esp = iso_esp[['iso']].to_dict()\n",
    "eng = iso_eng[['iso']].to_dict()"
   ]
  },
  {
   "cell_type": "code",
   "execution_count": 49,
   "metadata": {},
   "outputs": [
    {
     "name": "stdout",
     "output_type": "stream",
     "text": [
      "{'Afganistán': 'AF', 'Albania': 'AL', 'Alemania': 'DE', 'Andorra': 'AD', 'Angola': 'AO', 'Anguila': 'AI', 'Antártida': 'AQ', 'Antigua y Barbuda': 'AG', 'Arabia Saudita': 'SA', 'Argelia': 'DZ', 'Argentina': 'AR', 'Armenia': 'AM', 'Aruba': 'AW', 'Australia': 'AU', 'Austria': 'AT', 'Azerbaiyán': 'AZ', 'Bahamas': 'BS', 'Bahrein': 'BH', 'Bailía de Guernsey': 'GG', 'Bangladesh': 'BD', 'Barbados': 'BB', 'Belarús': 'BY', 'Bélgica': 'BE', 'Belice': 'BZ', 'Benín': 'BJ', 'Bermudas': 'BM', 'Bolivia': 'BO', '`Bosnia y Hercegovina`': 'BA', 'Botsuana': 'BW', 'Brasil': 'BR', 'Brunéi': 'BN', 'Bulgaria': 'BG', 'Burkina Faso': 'BF', 'Burundi': 'BI', 'Bután': 'BT', 'Cabo Verde': 'CV', 'Cambodia': 'KH', 'Camerún': 'CM', 'Canadá': 'CA', 'Catar': 'QA', 'Chad': 'TD', 'Chequia': 'CZ', 'Chile': 'CL', 'China': 'CN', 'Chipre': 'CY', 'Ciudad del Vaticano': 'VA', 'Colombia': 'CO', 'Comores': 'KM', 'Congo': 'CG', 'Corea del Norte': 'KP', 'Corea del Sur': 'KR', 'Costa de Marfil': 'CI', 'Costa Rica': 'CR', 'Croacia': 'HR', 'Cuba': 'CU', 'Curaçao': 'CW', 'Dinamarca': 'DK', 'Dominica': 'DM', 'Ecuador': 'EC', 'Egipto': 'EG', 'El Salvador': 'SV', 'Emiratos Árabes Unidos': 'AE', 'Eritrea': 'ER', 'Eslovaquia': 'SK', 'Eslovenia': 'SI', 'España': 'ES', 'Estados Federados de Micronesia': 'FM', 'Estados Unidos': 'US', 'Estonia': 'EE', 'Esuatini': 'SZ', 'Etiopía': 'ET', 'Fiji': 'FJ', 'Filipinas': 'PH', 'Finlandia': 'FI', 'Francia': 'FR', 'Gabón': 'GA', 'Gambia': 'GM', 'Georgia': 'GE', 'Georgia del Sur y las Islas Sandwich del Sur': 'GS', 'Ghana': 'GH', 'Gibraltar': 'GI', 'Granada': 'GD', 'Grecia': 'GR', 'Groenlandia': 'GL', 'Guadalupe': 'GP', 'Guam': 'GU', 'Guatemala': 'GT', 'Guayana': 'GY', 'Guayana Francesa': 'GF', 'Guinea': 'GN', 'Guinea Ecuatorial': 'GQ', 'Guinea-Bissau': 'GW', 'Haití': 'HT', 'Honduras': 'HN', 'Hong Kong': 'HK', 'Hungría': 'HU', 'India': 'IN', 'Indonesia': 'ID', 'Irán': 'IR', 'Iraq': 'IQ', 'Irlanda': 'IE', 'Isla Bouvet': 'BV', 'Isla de Man': 'IM', 'Isla de Navidad': 'CX', 'Isla de San Martín': 'MF', 'Isla Mauricio': 'MU', 'Isla Norfolk': 'NF', 'Islandia': 'IS', 'Islas Åland': 'AX', 'Islas Caimán': 'KY', 'Islas Cocos': 'CC', 'Islas Cook': 'CK', 'Islas Feroe': 'FO', 'Islas Heard y McDonald': 'HM', 'Islas Malvinas': 'FK', 'Islas Marianas del Norte': 'MP', 'Islas Marshall': 'MH', 'Islas Pitcairn': 'PN', 'Islas Salomón': 'SB', 'Islas Turcas y Caicos': 'TC', 'Islas Vírgenes (UK)': 'VG', 'Islas Vírgenes Americanas': 'VI', 'Israel': 'IL', 'Italia': 'IT', 'Jamaica': 'JM', 'Japón': 'JP', 'Jersey': 'JE', 'Jordania': 'JO', 'Kazajstán': 'KZ', 'Kenia': 'KE', 'Kirguistán': 'KG', 'Kiribati': 'KI', 'Kosovo': 'XK', 'Kuwait': 'KW', 'Laos': 'LA', 'Lesotho': 'LS', 'Letonia': 'LV', 'Líbano': 'LB', 'Liberia': 'LR', 'Libia': 'LY', 'Liechtenstein': 'LI', 'Lituania': 'LT', 'Luxemburgo': 'LU', 'Macao': 'MO', 'Macedonia del Norte': 'MK', 'Madagascar': 'MG', 'Malasia': 'MY', 'Malaui': 'MW', 'Maldivas': 'MV', 'Malí': 'ML', 'Malta': 'MT', 'Marruecos': 'MA', 'Martinica': 'MQ', 'Mauritania': 'MR', 'Mayotte': 'YT', 'México': 'MX', 'Moldavia': 'MD', 'Mongolia': 'MN', 'Montenegro': 'ME', 'Montserrat': 'MS', 'Mozambique': 'MZ', 'Myanmar': 'MM', 'Namibia': nan, 'Nauru': 'NR', 'Nepal': 'NP', 'Nicaragua': 'NI', 'Níger': 'NE', 'Nigeria': 'NG', 'Niue': 'NU', 'Noruega': 'NO', 'Nueva Caledonia': 'NC', 'Nueva Zelandia': 'NZ', 'Omán': 'OM', 'Países Bajos': 'NL', 'Pakistán': 'PK', 'Palaos': 'PW', 'Palestina': 'PS', 'Panamá': 'PA', 'Papúa Nueva Guinea': 'PG', 'Paraguay': 'PY', 'Perú': 'PE', 'Polinesia Francesa': 'PF', 'Polonia': 'PL', 'Portugal': 'PT', 'Principado de Mónaco': 'MC', 'Puerto Rico': 'PR', 'Reino Unido': 'GB', 'República Centroafricana': 'CF', 'República Democrática del Congo': 'CD', 'República Dominicana': 'DO', 'Reunión': 'RE', 'Ruanda': 'RW', 'Rumania': 'RO', 'Rusia': 'RU', 'Sáhara Occidental': 'EH', 'Samoa': 'WS', 'Samoa Americana': 'AS', 'San Bartolomé': 'BL', 'San Cristóbal y Nieves': 'KN', 'San Marino': 'SM', 'San Pedro y Miquelón': 'PM', 'San Vicente y las Granadinas': 'VC', 'Santa Elena, Ascensión y Tristán de Acuña': 'SH', 'Santa Lucía': 'LC', 'Santo Tomé y Príncipe': 'ST', 'Senegal': 'SN', 'Serbia': 'RS', 'Seychelles': 'SC', 'Sierra Leona': 'SL', 'Singapur': 'SG', 'Sint Maarten': 'SX', 'Siria': 'SY', 'Somalia': 'SO', 'Sri Lanka': 'LK', 'Sudáfrica': 'ZA', 'Sudán': 'SD', 'Sudán del Sur': 'SS', 'Suecia': 'SE', 'Suiza': 'CH', 'Surinam': 'SR', 'Svalbard y Jan Mayen': 'SJ', 'Tailandia': 'TH', 'Taiwán': 'TW', 'Tanzania': 'TZ', 'Tayikistán': 'TJ', 'Territorio Británico del Océano Índico': 'IO', 'Territorios Australes y Antárticos Franceses': 'TF', 'Timor Oriental': 'TL', 'Togo': 'TG', 'Tokelau': 'TK', 'Tonga': 'TO', 'Trinidad y Tobago': 'TT', 'Túnez': 'TN', 'Turkmenistán': 'TM', 'Turquía': 'TR', 'Tuvalu': 'TV', 'Ucrania': 'UA', 'Uganda': 'UG', 'Uruguay': 'UY', 'Uzbekistán': 'UZ', 'Vanuatu': 'VU', 'Venezuela': 'VE', 'Vietnam': 'VN', 'Wallis y Futuna': 'WF', 'Yemen': 'YE', 'Yibuti': 'DJ', 'Zambia': 'ZM', 'Zimbabue': 'ZW'}\n"
     ]
    }
   ],
   "source": [
    "print(esp['iso'])"
   ]
  },
  {
   "cell_type": "code",
   "execution_count": 50,
   "metadata": {},
   "outputs": [
    {
     "name": "stdout",
     "output_type": "stream",
     "text": [
      "{'Afghanistan': 'AF', 'Albania': 'AL', 'Germany': 'DE', 'Andorra': 'AD', 'Angola': 'AO', 'Anguilla': 'AI', 'Antarctica': 'AQ', 'Antigua and Barbuda': 'AG', 'Saudi Arabia': 'SA', 'Algeria': 'DZ', 'Argentina': 'AR', 'Armenia': 'AM', 'Aruba': 'AW', 'Australia': 'AU', 'Austria': 'AT', 'Azerbaijan': 'AZ', 'Bahamas': 'BS', 'Bahrain': 'BH', 'Guernsey': 'GG', 'Bangladesh': 'BD', 'Barbados': 'BB', 'Belarus': 'BY', 'Belgium': 'BE', 'Belize': 'BZ', 'Benin': 'BJ', 'Bermuda': 'BM', 'Bolivia': 'BO', 'Bosnia and Herzegovina': 'BA', 'Botswana': 'BW', 'Brazil': 'BR', 'Brunei': 'BN', 'Bulgaria': 'BG', 'Burkina Faso': 'BF', 'Burundi': 'BI', 'Bhutan': 'BT', 'Cape Verde': 'CV', 'Cambodia': 'KH', 'Cameroon': 'CM', 'Canada': 'CA', 'Qatar': 'QA', 'Chad': 'TD', 'Czech Republic': 'CZ', 'Chile': 'CL', 'China': 'CN', 'Cyprus': 'CY', 'Vatican City': 'VA', 'Colombia': 'CO', 'Comoros': 'KM', 'Congo [Republic]': 'CG', 'North Korea': 'KP', 'South Korea': 'KR', \"Côte d'Ivoire\": 'CI', 'Costa Rica': 'CR', 'Croatia': 'HR', 'Cuba': 'CU', nan: 'SS', 'Denmark': 'DK', 'Dominica': 'DM', 'Ecuador': 'EC', 'Egypt': 'EG', 'El Salvador': 'SV', 'United Arab Emirates': 'AE', 'Eritrea': 'ER', 'Slovakia': 'SK', 'Slovenia': 'SI', 'Spain': 'ES', 'Micronesia': 'FM', 'United States': 'US', 'Estonia': 'EE', 'Swaziland': 'SZ', 'Ethiopia': 'ET', 'Fiji': 'FJ', 'Philippines': 'PH', 'Finland': 'FI', 'France': 'FR', 'Gabon': 'GA', 'Gambia': 'GM', 'Georgia': 'GE', 'South Georgia and the South Sandwich Islands': 'GS', 'Ghana': 'GH', 'Gibraltar': 'GI', 'Grenada': 'GD', 'Greece': 'GR', 'Greenland': 'GL', 'Guadeloupe': 'GP', 'Guam': 'GU', 'Guatemala': 'GT', 'Guyana': 'GY', 'French Guiana': 'GF', 'Guinea': 'GN', 'Equatorial Guinea': 'GQ', 'Guinea-Bissau': 'GW', 'Haiti': 'HT', 'Honduras': 'HN', 'Hong Kong': 'HK', 'Hungary': 'HU', 'India': 'IN', 'Indonesia': 'ID', 'Iran': 'IR', 'Iraq': 'IQ', 'Ireland': 'IE', 'Bouvet Island': 'BV', 'Isle of Man': 'IM', 'Christmas Island': 'CX', 'Mauritius': 'MU', 'Norfolk Island': 'NF', 'Iceland': 'IS', 'Cayman Islands': 'KY', 'Cocos [Keeling] Islands': 'CC', 'Cook Islands': 'CK', 'Faroe Islands': 'FO', 'Heard Island and McDonald Islands': 'HM', 'Falkland Islands [Islas Malvinas]': 'FK', 'Northern Mariana Islands': 'MP', 'Marshall Islands': 'MH', 'Pitcairn Islands': 'PN', 'Solomon Islands': 'SB', 'Turks and Caicos Islands': 'TC', 'British Virgin Islands': 'VG', 'U.S. Virgin Islands': 'VI', 'Israel': 'IL', 'Italy': 'IT', 'Jamaica': 'JM', 'Japan': 'JP', 'Jersey': 'JE', 'Jordan': 'JO', 'Kazakhstan': 'KZ', 'Kenya': 'KE', 'Kyrgyzstan': 'KG', 'Kiribati': 'KI', 'Kosovo': 'XK', 'Kuwait': 'KW', 'Laos': 'LA', 'Lesotho': 'LS', 'Latvia': 'LV', 'Lebanon': 'LB', 'Liberia': 'LR', 'Libya': 'LY', 'Liechtenstein': 'LI', 'Lithuania': 'LT', 'Luxembourg': 'LU', 'Macau': 'MO', 'Macedonia [FYROM]': 'MK', 'Madagascar': 'MG', 'Malaysia': 'MY', 'Malawi': 'MW', 'Maldives': 'MV', 'Mali': 'ML', 'Malta': 'MT', 'Morocco': 'MA', 'Martinique': 'MQ', 'Mauritania': 'MR', 'Mayotte': 'YT', 'Mexico': 'MX', 'Moldova': 'MD', 'Mongolia': 'MN', 'Montenegro': 'ME', 'Montserrat': 'MS', 'Mozambique': 'MZ', 'Myanmar [Burma]': 'MM', 'Namibia': nan, 'Nauru': 'NR', 'Nepal': 'NP', 'Nicaragua': 'NI', 'Niger': 'NE', 'Nigeria': 'NG', 'Niue': 'NU', 'Norway': 'NO', 'New Caledonia': 'NC', 'New Zealand': 'NZ', 'Oman': 'OM', 'Netherlands': 'NL', 'Pakistan': 'PK', 'Palau': 'PW', 'Palestinian Territories': 'PS', 'Panama': 'PA', 'Papua New Guinea': 'PG', 'Paraguay': 'PY', 'Peru': 'PE', 'French Polynesia': 'PF', 'Poland': 'PL', 'Portugal': 'PT', 'Monaco': 'MC', 'Puerto Rico': 'PR', 'United Kingdom': 'GB', 'Central African Republic': 'CF', 'Congo [DRC]': 'CD', 'Dominican Republic': 'DO', 'Réunion': 'RE', 'Rwanda': 'RW', 'Romania': 'RO', 'Russia': 'RU', 'Western Sahara': 'EH', 'Samoa': 'WS', 'American Samoa': 'AS', 'Saint Kitts and Nevis': 'KN', 'San Marino': 'SM', 'Saint Pierre and Miquelon': 'PM', 'Saint Vincent and the Grenadines': 'VC', 'Saint Helena': 'SH', 'Saint Lucia': 'LC', 'São Tomé and Príncipe': 'ST', 'Senegal': 'SN', 'Serbia': 'RS', 'Seychelles': 'SC', 'Sierra Leone': 'SL', 'Singapore': 'SG', 'Syria': 'SY', 'Somalia': 'SO', 'Sri Lanka': 'LK', 'South Africa': 'ZA', 'Sudan': 'SD', 'Sweden': 'SE', 'Switzerland': 'CH', 'Suriname': 'SR', 'Svalbard and Jan Mayen': 'SJ', 'Thailand': 'TH', 'Taiwan': 'TW', 'Tanzania': 'TZ', 'Tajikistan': 'TJ', 'British Indian Ocean Territory': 'IO', 'French Southern Territories': 'TF', 'Timor-Leste': 'TL', 'Togo': 'TG', 'Tokelau': 'TK', 'Tonga': 'TO', 'Trinidad and Tobago': 'TT', 'Tunisia': 'TN', 'Turkmenistan': 'TM', 'Turkey': 'TR', 'Tuvalu': 'TV', 'Ukraine': 'UA', 'Uganda': 'UG', 'Uruguay': 'UY', 'Uzbekistan': 'UZ', 'Vanuatu': 'VU', 'Venezuela': 'VE', 'Vietnam': 'VN', 'Wallis and Futuna': 'WF', 'Yemen': 'YE', 'Djibouti': 'DJ', 'Zambia': 'ZM', 'Zimbabwe': 'ZW'}\n"
     ]
    }
   ],
   "source": [
    "print(eng['iso'])"
   ]
  },
  {
   "cell_type": "code",
   "execution_count": 8,
   "metadata": {},
   "outputs": [],
   "source": [
    "cantones.set_index('CANTON', inplace=True)\n",
    "cntn_dict = cantones.to_dict()"
   ]
  },
  {
   "cell_type": "code",
   "execution_count": 11,
   "metadata": {},
   "outputs": [
    {
     "name": "stdout",
     "output_type": "stream",
     "text": [
      "{'CUENCA': 101, 'GIRÓN': 102, 'GUALACEO': 103, 'NABÓN': 104, 'PAUTE': 105, 'PUCARÁ': 106, 'SAN FERNANDO': 107, 'SANTA ISABEL': 108, 'SÍGSIG': 109, 'OÑA': 110, 'CHORDELEG': 111, 'EL PAN': 112, 'SEVILLA DE ORO': 113, 'GUACHAPALA': 114, 'CAMILO PONCE ENRÍQUEZ': 115, 'GUARANDA': 201, 'CHILLANES': 202, 'CHIMBO': 203, 'ECHEANDÍA': 204, 'SAN MIGUEL': 205, 'CALUMA': 206, 'LAS NAVES': 207, 'AZOGUES': 301, 'BIBLIÁN': 302, 'CAÑAR': 303, 'LA TRONCAL': 304, 'EL TAMBO': 305, 'DÉLEG': 306, 'SUSCAL': 307, 'TULCÁN': 401, 'BOLÍVAR': 1302, 'ESPEJO': 403, 'MIRA': 404, 'MONTÚFAR': 405, 'SAN PEDRO DE HUACA': 406, 'LATACUNGA': 501, 'LA MANÁ': 502, 'PANGUA': 503, 'PUJILÍ': 504, 'SALCEDO': 505, 'SAQUISILÍ': 506, 'SIGCHOS': 507, 'RIOBAMBA': 601, 'ALAUSÍ': 602, 'COLTA': 603, 'CHAMBO': 604, 'CHUNCHI': 605, 'GUAMOTE': 606, 'GUANO': 607, 'PALLATANGA': 608, 'PENIPE': 609, 'CUMANDÁ': 610, 'MACHALA': 701, 'ARENILLAS': 702, 'ATAHUALPA': 703, 'BALSAS': 704, 'CHILLA': 705, 'EL GUABO': 706, 'HUAQUILLAS': 707, 'MARCABELÍ': 708, 'PASAJE': 709, 'PIÑAS': 710, 'PORTOVELO': 711, 'SANTA ROSA': 712, 'ZARUMA': 713, 'LAS LAJAS': 714, 'ESMERALDAS': 801, 'ELOY ALFARO': 802, 'MUISNE': 803, 'QUININDÉ': 804, 'SAN LORENZO': 805, 'ATACAMES': 806, 'RIOVERDE': 807, 'GUAYAQUIL': 901, 'ALFREDO BAQUERIZO MORENO (JUJÁN)': 902, 'BALAO': 903, 'BALZAR': 904, 'COLIMES': 905, 'DAULE': 906, 'DURÁN': 907, 'EL EMPALME': 908, 'EL TRIUNFO': 909, 'MILAGRO': 910, 'NARANJAL': 911, 'NARANJITO': 912, 'PALESTINA': 913, 'PEDRO CARBO': 914, 'SAMBORONDÓN': 916, 'SANTA LUCÍA': 918, 'SALITRE': 919, 'SAN JACINTO DE YAGUACHI': 920, 'PLAYAS': 921, 'SIMÓN BOLÍVAR': 922, 'CORONEL MARCELINO MARIDUEÑA': 923, 'LOMAS DE SARGENTILLO': 924, 'NOBOL': 925, 'GENERAL  ANTONIO ELIZALDE': 927, 'ISIDRO AYORA': 928, 'IBARRA': 1001, 'ANTONIO ANTE': 1002, 'COTACACHI': 1003, 'OTAVALO': 1004, 'PIMAMPIRO': 1005, 'SAN MIGUEL DE URCUQUÍ': 1006, 'LOJA': 1101, 'CALVAS': 1102, 'CATAMAYO': 1103, 'CELICA': 1104, 'CHAGUARPAMBA': 1105, 'ESPÍNDOLA': 1106, 'GONZANAMÁ': 1107, 'MACARÁ': 1108, 'PALTAS': 1109, 'PUYANGO': 1110, 'SARAGURO': 1111, 'SOZORANGA': 1112, 'ZAPOTILLO': 1113, 'PINDAL': 1114, 'QUILANGA': 1115, 'OLMEDO': 1318, 'BABAHOYO': 1201, 'BABA': 1202, 'MONTALVO': 1203, 'PUEBLOVIEJO': 1204, 'QUEVEDO': 1205, 'URDANETA': 1206, 'VENTANAS': 1207, 'VINCES': 1208, 'PALENQUE': 1209, 'BUENA FE': 1210, 'VALENCIA': 1211, 'MOCACHE': 1212, 'QUINSALOMA': 1213, 'PORTOVIEJO': 1301, 'CHONE': 1303, 'EL CARMEN': 1304, 'FLAVIO ALFARO': 1305, 'JIPIJAPA': 1306, 'JUNÍN': 1307, 'MANTA': 1308, 'MONTECRISTI': 1309, 'PAJÁN': 1310, 'PICHINCHA': 1311, 'ROCAFUERTE': 1312, 'SANTA ANA': 1313, 'SUCRE': 1314, 'TOSAGUA': 1315, '24 DE MAYO': 1316, 'PEDERNALES': 1317, 'PUERTO LÓPEZ': 1319, 'JAMA': 1320, 'JARAMIJÓ': 1321, 'SAN VICENTE': 1322, 'MORONA': 1401, 'GUALAQUIZA': 1402, 'LIMÓN INDANZA': 1403, 'PALORA': 1404, 'SANTIAGO': 1405, 'SUCÚA': 1406, 'HUAMBOYA': 1407, 'SAN JUAN BOSCO': 1408, 'TAISHA': 1409, 'LOGROÑO': 1410, 'PABLO SEXTO': 1411, 'TIWINTZA': 1412, 'TENA': 1501, 'ARCHIDONA': 1503, 'EL CHACO': 1504, 'QUIJOS': 1507, 'CARLOS JULIO AROSEMENA TOLA': 1509, 'PASTAZA': 1601, 'MERA': 1602, 'SANTA CLARA': 1603, 'ARAJUNO': 1604, 'QUITO': 1701, 'CAYAMBE': 1702, 'MEJÍA': 1703, 'PEDRO MONCAYO': 1704, 'RUMIÑAHUI': 1705, 'SAN MIGUEL DE LOS BANCOS': 1707, 'PEDRO VICENTE MALDONADO': 1708, 'PUERTO QUITO': 1709, 'AMBATO': 1801, 'BAÑOS DE AGUA SANTA': 1802, 'CEVALLOS': 1803, 'MOCHA': 1804, 'PATATE': 1805, 'QUERO': 1806, 'SAN PEDRO DE PELILEO': 1807, 'SANTIAGO DE PÍLLARO': 1808, 'TISALEO': 1809, 'ZAMORA': 1901, 'CHINCHIPE': 1902, 'NANGARITZA': 1903, 'YACUAMBI': 1904, 'YANTZAZA': 1905, 'EL PANGUI': 1906, 'CENTINELA DEL CÓNDOR': 1907, 'PALANDA': 1908, 'PAQUISHA': 1909, 'SAN CRISTÓBAL': 2001, 'ISABELA': 2002, 'SANTA CRUZ': 2003, 'LAGO AGRIO': 2101, 'GONZALO PIZARRO': 2102, 'PUTUMAYO': 2103, 'SHUSHUFINDI': 2104, 'SUCUMBÍOS': 2105, 'CASCALES': 2106, 'CUYABENO': 2107, 'FRANCISCO DE ORELLANA': 2201, 'AGUARICO': 2202, 'LA JOYA DE LOS SACHAS': 2203, 'LORETO': 2204, 'SANTO DOMINGO': 2301, 'LA CONCORDIA': 2302, 'SANTA ELENA': 2401, 'LA LIBERTAD': 2402, 'SALINAS': 2403}\n"
     ]
    }
   ],
   "source": [
    "print(cntn_dict['canton_code'])"
   ]
  },
  {
   "cell_type": "code",
   "execution_count": 2,
   "metadata": {},
   "outputs": [
    {
     "data": {
      "text/plain": [
       "array(['Centro Binacional de Atención Fronteriza Huaquillas',\n",
       "       'Unidad de Control Migratorio Puerto Marítimo Guayaquil',\n",
       "       'Unidad de Control Migratorio Puerto Marítimo Manta',\n",
       "       'Unidad de Control Migratorio Puerto Marítimo La Libertad',\n",
       "       'Centro Nacional de Atención Fronteriza Rumichaca',\n",
       "       'Aeropuerto Internacional Mariscal Sucre',\n",
       "       'Aeropuerto Internacional José Joaquín de Olmedo',\n",
       "       'Aeropuerto Internacional Eloy Alfaro',\n",
       "       'Unidad de Control Migratorio Puerto Marítimo Esmeraldas',\n",
       "       'Unidad de Control Migratorio Puerto Marítimo Posorja',\n",
       "       'Aeropuerto Internacional Cotopaxi',\n",
       "       'Unidad de Control Migratorio Puerto Fluvial San Lorenzo',\n",
       "       'Unidad de Control Migratorio Puerto Marítimo Ayora',\n",
       "       'Unidad de Control Migratorio Puerto Marítimo Bolívar',\n",
       "       'Unidad de Control Migratorio Puerto Marítimo Baquerizo Moreno',\n",
       "       'Aeropuerto Mariscal Lamar',\n",
       "       'Centro Binacional de Atención Fronteriza San Miguel',\n",
       "       'Unidad de Control Migratorio Puerto Marítimo Isabela',\n",
       "       'Unidad de Control Migratorio Puerto Marítimo Seymour',\n",
       "       'Aeropuerto Seymour de Baltra',\n",
       "       'Unidad de Control Migratorio Frontera Terrestre Macara',\n",
       "       'Aeropuerto Transfronterizo Coronel Carlos Concha Torres',\n",
       "       'Aeropuerto General Ulpiano Paez'], dtype=object)"
      ]
     },
     "execution_count": 2,
     "metadata": {},
     "output_type": "execute_result"
    }
   ],
   "source": [
    "df['jef_migr'].unique()"
   ]
  },
  {
   "cell_type": "code",
   "execution_count": null,
   "metadata": {},
   "outputs": [],
   "source": [
    "# All dictionaries\n",
    "\n",
    "movi_dict = {\n",
    "    'Entrada': 1,\n",
    "    'Salida' : 2\n",
    "}\n",
    "\n",
    "naci_dict = {\n",
    "    'Ecuatoriano' : 1,\n",
    "    'Extranjero'  : 2\n",
    "}\n",
    "\n",
    "sex_dict = {\n",
    "    'Hombre': 1,\n",
    "    'Mujer' : 2,\n",
    "}\n",
    "\n",
    "tran_dict = {\n",
    "    'Vía terrestre' : 1, \n",
    "    'Vía Maritimo'  : 2, \n",
    "    'Vía Aérea'     : 3, \n",
    "    'Vía fluvial'   : 4\n",
    "}\n",
    "\n",
    "viam_dict = {\n",
    "    'Residencia' : 1, \n",
    "    'Turismo'    : 2, \n",
    "    'Otros'      : 3, \n",
    "    'Eventos'    : 4, \n",
    "    'Negocios'   : 5,\n",
    "    'Estudios'   : 6\n",
    "}\n",
    "\n",
    "cntn_dict = {\n",
    "    'Huaquillas' : 707, \n",
    "    'Guayaquil' : 901, \n",
    "    'Manta' : 1308, \n",
    "    'Salinas' : 2403, \n",
    "    'Tulcán' : 401, \n",
    "    'Quito' : 1701,\n",
    "    'Esmeraldas' : 801, \n",
    "    'Latacunga' : 501, \n",
    "    'San Lorenzo' : 805, \n",
    "    'Santa Cruz' : 2003, \n",
    "    'Machala' : 701,\n",
    "    'San Cristóbal' : 2001, \n",
    "    'Cuenca' : 101, \n",
    "    'Sucumbíos' : 2105, \n",
    "    'Isabela' : 2002, \n",
    "    'Macará' : 1108\n",
    "}\n",
    "\n",
    "jefm_dict = {\n",
    "    'Centro Binacional de Atención Fronteriza Huaquillas' : 1,\n",
    "    'Unidad de Control Migratorio Puerto Marítimo Guayaquil' : 2,\n",
    "    'Unidad de Control Migratorio Puerto Marítimo Manta' : 3,\n",
    "    'Unidad de Control Migratorio Puerto Marítimo La Libertad' : 4,\n",
    "    'Centro Nacional de Atención Fronteriza Rumichaca' : 5,\n",
    "    'Aeropuerto Internacional Mariscal Sucre' : 6,\n",
    "    'Aeropuerto Internacional José Joaquín de Olmedo' : 7,\n",
    "    'Aeropuerto Internacional Eloy Alfaro' : 8,\n",
    "    'Unidad de Control Migratorio Puerto Marítimo Esmeraldas' : 9,\n",
    "    'Unidad de Control Migratorio Puerto Marítimo Posorja' : 10,\n",
    "    'Aeropuerto Internacional Cotopaxi' : 11,\n",
    "    'Unidad de Control Migratorio Puerto Fluvial San Lorenzo' : 12,\n",
    "    'Unidad de Control Migratorio Puerto Marítimo Ayora' : 13,\n",
    "    'Unidad de Control Migratorio Puerto Marítimo Bolívar' : 14,\n",
    "    'Unidad de Control Migratorio Puerto Marítimo Baquerizo Moreno' : 15,\n",
    "    'Aeropuerto Mariscal Lamar' : 16,\n",
    "    'Centro Binacional de Atención Fronteriza San Miguel' : 17,\n",
    "    'Unidad de Control Migratorio Puerto Marítimo Isabela' : 18,\n",
    "    'Unidad de Control Migratorio Puerto Marítimo Seymour' : 19,\n",
    "    'Aeropuerto Seymour de Baltra' : 20,\n",
    "    'Unidad de Control Migratorio Frontera Terrestre Macara' : 21,\n",
    "    'Aeropuerto Transfronterizo Coronel Carlos Concha Torres' : 22,\n",
    "    'Aeropuerto General Ulpiano Paez' : 23\n",
    "}\n",
    "\n",
    "iso_esp = {\n",
    "    'Afganistán': 'AF', 'Albania': 'AL', 'Alemania': 'DE', 'Andorra': 'AD', 'Angola': 'AO', 'Anguila': 'AI', \n",
    "    'Antártida': 'AQ', 'Antigua y Barbuda': 'AG', 'Arabia Saudita': 'SA', 'Argelia': 'DZ', 'Argentina': 'AR', \n",
    "    'Armenia': 'AM', 'Aruba': 'AW', 'Australia': 'AU', 'Austria': 'AT', 'Azerbaiyán': 'AZ', 'Bahamas': 'BS', \n",
    "    'Bahrein': 'BH', 'Bailía de Guernsey': 'GG', 'Bangladesh': 'BD', 'Barbados': 'BB', 'Belarús': 'BY', 'Bélgica': 'BE', \n",
    "    'Belice': 'BZ', 'Benín': 'BJ', 'Bermudas': 'BM', 'Bolivia': 'BO', '`Bosnia y Hercegovina`': 'BA', 'Botsuana': 'BW', \n",
    "    'Brasil': 'BR', 'Brunéi': 'BN', 'Bulgaria': 'BG', 'Burkina Faso': 'BF', 'Burundi': 'BI', 'Bután': 'BT', 'Cabo Verde': 'CV', \n",
    "    'Cambodia': 'KH', 'Camerún': 'CM', 'Canadá': 'CA', 'Catar': 'QA', 'Chad': 'TD', 'Chequia': 'CZ', 'Chile': 'CL', 'China': 'CN', \n",
    "    'Chipre': 'CY', 'Ciudad del Vaticano': 'VA', 'Colombia': 'CO', 'Comores': 'KM', 'Congo': 'CG', 'Corea del Norte': 'KP', \n",
    "    'Corea del Sur': 'KR', 'Costa de Marfil': 'CI', 'Costa Rica': 'CR', 'Croacia': 'HR', 'Cuba': 'CU', 'Curaçao': 'CW', \n",
    "    'Dinamarca': 'DK', 'Dominica': 'DM', 'Ecuador': 'EC', 'Egipto': 'EG', 'El Salvador': 'SV', 'Emiratos Árabes Unidos': 'AE', \n",
    "    'Eritrea': 'ER', 'Eslovaquia': 'SK', 'Eslovenia': 'SI', 'España': 'ES', 'Estados Federados de Micronesia': 'FM', 'Estados Unidos': 'US', \n",
    "    'Estonia': 'EE', 'Esuatini': 'SZ', 'Etiopía': 'ET', 'Fiji': 'FJ', 'Filipinas': 'PH', 'Finlandia': 'FI', 'Francia': 'FR', \n",
    "    'Gabón': 'GA', 'Gambia': 'GM', 'Georgia': 'GE', 'Georgia del Sur y las Islas Sandwich del Sur': 'GS', 'Ghana': 'GH', \n",
    "    'Gibraltar': 'GI', 'Granada': 'GD', 'Grecia': 'GR', 'Groenlandia': 'GL', 'Guadalupe': 'GP', 'Guam': 'GU', 'Guatemala': 'GT', \n",
    "    'Guayana': 'GY', 'Guayana Francesa': 'GF', 'Guinea': 'GN', 'Guinea Ecuatorial': 'GQ', 'Guinea-Bissau': 'GW', 'Haití': 'HT', \n",
    "    'Honduras': 'HN', 'Hong Kong': 'HK', 'Hungría': 'HU', 'India': 'IN', 'Indonesia': 'ID', 'Irán': 'IR', 'Iraq': 'IQ', 'Irlanda': 'IE', \n",
    "    'Isla Bouvet': 'BV', 'Isla de Man': 'IM', 'Isla de Navidad': 'CX', 'Isla de San Martín': 'MF', 'Isla Mauricio': 'MU', \n",
    "    'Isla Norfolk': 'NF', 'Islandia': 'IS', 'Islas Åland': 'AX', 'Islas Caimán': 'KY', 'Islas Cocos': 'CC', 'Islas Cook': 'CK', \n",
    "    'Islas Feroe': 'FO', 'Islas Heard y McDonald': 'HM', 'Islas Malvinas': 'FK', 'Islas Marianas del Norte': 'MP', 'Islas Marshall': 'MH', \n",
    "    'Islas Pitcairn': 'PN', 'Islas Salomón': 'SB', 'Islas Turcas y Caicos': 'TC', 'Islas Vírgenes (UK)': 'VG', 'Islas Vírgenes Americanas': 'VI', \n",
    "    'Israel': 'IL', 'Italia': 'IT', 'Jamaica': 'JM', 'Japón': 'JP', 'Jersey': 'JE', 'Jordania': 'JO', 'Kazajstán': 'KZ', 'Kenia': 'KE', 'Kirguistán': 'KG', \n",
    "    'Kiribati': 'KI', 'Kosovo': 'XK', 'Kuwait': 'KW', 'Laos': 'LA', 'Lesotho': 'LS', 'Letonia': 'LV', 'Líbano': 'LB', 'Liberia': 'LR', \n",
    "    'Libia': 'LY', 'Liechtenstein': 'LI', 'Lituania': 'LT', 'Luxemburgo': 'LU', 'Macao': 'MO', 'Macedonia del Norte': 'MK', \n",
    "    'Madagascar': 'MG', 'Malasia': 'MY', 'Malaui': 'MW', 'Maldivas': 'MV', 'Malí': 'ML', 'Malta': 'MT', 'Marruecos': 'MA', \n",
    "    'Martinica': 'MQ', 'Mauritania': 'MR', 'Mayotte': 'YT', 'México': 'MX', 'Moldavia': 'MD', 'Mongolia': 'MN', 'Montenegro': 'ME', \n",
    "    'Montserrat': 'MS', 'Mozambique': 'MZ', 'Myanmar': 'MM', 'Namibia': nan, 'Nauru': 'NR', 'Nepal': 'NP', 'Nicaragua': 'NI', \n",
    "    'Níger': 'NE', 'Nigeria': 'NG', 'Niue': 'NU', 'Noruega': 'NO', 'Nueva Caledonia': 'NC', 'Nueva Zelandia': 'NZ', 'Omán': 'OM', \n",
    "    'Países Bajos': 'NL', 'Pakistán': 'PK', 'Palaos': 'PW', 'Palestina': 'PS', 'Panamá': 'PA', 'Papúa Nueva Guinea': 'PG', \n",
    "    'Paraguay': 'PY', 'Perú': 'PE', 'Polinesia Francesa': 'PF', 'Polonia': 'PL', 'Portugal': 'PT', 'Principado de Mónaco': 'MC', \n",
    "    'Puerto Rico': 'PR', 'Reino Unido': 'GB', 'República Centroafricana': 'CF', 'República Democrática del Congo': 'CD', \n",
    "    'República Dominicana': 'DO', 'Reunión': 'RE', 'Ruanda': 'RW', 'Rumania': 'RO', 'Rusia': 'RU', 'Sáhara Occidental': 'EH', \n",
    "    'Samoa': 'WS', 'Samoa Americana': 'AS', 'San Bartolomé': 'BL', 'San Cristóbal y Nieves': 'KN', 'San Marino': 'SM', \n",
    "    'San Pedro y Miquelón': 'PM', 'San Vicente y las Granadinas': 'VC', 'Santa Elena, Ascensión y Tristán de Acuña': 'SH', \n",
    "    'Santa Lucía': 'LC', 'Santo Tomé y Príncipe': 'ST', 'Senegal': 'SN', 'Serbia': 'RS', 'Seychelles': 'SC', 'Sierra Leona': 'SL', \n",
    "    'Singapur': 'SG', 'Sint Maarten': 'SX', 'Siria': 'SY', 'Somalia': 'SO', 'Sri Lanka': 'LK', 'Sudáfrica': 'ZA', 'Sudán': 'SD', \n",
    "    'Sudán del Sur': 'SS', 'Suecia': 'SE', 'Suiza': 'CH', 'Surinam': 'SR', 'Svalbard y Jan Mayen': 'SJ', 'Tailandia': 'TH', \n",
    "    'Taiwán': 'TW', 'Tanzania': 'TZ', 'Tayikistán': 'TJ', 'Territorio Británico del Océano Índico': 'IO', \n",
    "    'Territorios Australes y Antárticos Franceses': 'TF', 'Timor Oriental': 'TL', 'Togo': 'TG', 'Tokelau': 'TK', 'Tonga': 'TO', \n",
    "    'Trinidad y Tobago': 'TT', 'Túnez': 'TN', 'Turkmenistán': 'TM', 'Turquía': 'TR', 'Tuvalu': 'TV', 'Ucrania': 'UA', 'Uganda': 'UG', \n",
    "    'Uruguay': 'UY', 'Uzbekistán': 'UZ', 'Vanuatu': 'VU', 'Venezuela': 'VE', 'Vietnam': 'VN', 'Wallis y Futuna': 'WF', 'Yemen': 'YE', \n",
    "    'Yibuti': 'DJ', 'Zambia': 'ZM', 'Zimbabue': 'ZW'\n",
    "}"
   ]
  },
  {
   "cell_type": "code",
   "execution_count": null,
   "metadata": {},
   "outputs": [],
   "source": []
  },
  {
   "cell_type": "code",
   "execution_count": null,
   "metadata": {},
   "outputs": [],
   "source": []
  }
 ],
 "metadata": {
  "kernelspec": {
   "display_name": "Python 3.9.7 ('base')",
   "language": "python",
   "name": "python3"
  },
  "language_info": {
   "codemirror_mode": {
    "name": "ipython",
    "version": 3
   },
   "file_extension": ".py",
   "mimetype": "text/x-python",
   "name": "python",
   "nbconvert_exporter": "python",
   "pygments_lexer": "ipython3",
   "version": "3.9.7"
  },
  "orig_nbformat": 4,
  "vscode": {
   "interpreter": {
    "hash": "87cdc7eef6c6cd4fceda7e27cb75fb28c96fc5b15f54dcab50faa1427b5814d6"
   }
  }
 },
 "nbformat": 4,
 "nbformat_minor": 2
}
